{
 "nbformat": 4,
 "nbformat_minor": 0,
 "metadata": {
  "colab": {
   "name": "DeepLearningCV-Ex3.ipynb",
   "provenance": [],
   "collapsed_sections": []
  },
  "kernelspec": {
   "name": "python3",
   "language": "python",
   "display_name": "Python 3"
  },
  "accelerator": "GPU",
  "pycharm": {
   "stem_cell": {
    "cell_type": "raw",
    "source": [],
    "metadata": {
     "collapsed": false
    }
   }
  }
 },
 "cells": [
  {
   "cell_type": "code",
   "metadata": {
    "id": "S4vQhqoKaR6N",
    "colab_type": "code",
    "outputId": "6e605e2a-de02-47ee-d2f4-3440421330ff",
    "colab": {
     "base_uri": "https://localhost:8080/",
     "height": 315
    },
    "pycharm": {
     "is_executing": false
    }
   },
   "source": [
    "import numpy as np\n",
    "from tensorflow import keras\n",
    "fashion_mnist = keras.datasets\n",
    "\n",
    "import torch.nn as nn\n",
    "import torch.nn.functional as F\n",
    "import matplotlib.pyplot as plt\n",
    "import urllib\n",
    "urllib.request.urlretrieve (\"https://gitlab.com/knork/data/raw/e0a833fb698e00db25be29dba89f0b6c6a2efcc8/ORL_faces.npz?inline=false\", \"face.npz\")\n",
    "\n",
    "data = np.load('face.npz')\n",
    "trainX = data['trainX']\n",
    "trainY = data['trainY']\n",
    "testX = data['testX']\n",
    "testY = data['testY']\n",
    "trainX_check= np.reshape(trainX,(240,112,92))\n",
    "plt.imshow(trainX_check[0])\n",
    "plt.show()\n",
    "import torch"
   ],
   "execution_count": 1,
   "outputs": [
    {
     "data": {
      "text/plain": "<Figure size 640x480 with 1 Axes>"
     },
     "metadata": {},
     "output_type": "display_data"
    }
   ]
  },
  {
   "cell_type": "code",
   "metadata": {
    "id": "wHJUgkeYrH23",
    "colab_type": "code",
    "outputId": "e8f265c9-e70c-4b4a-9624-91185704a711",
    "colab": {
     "base_uri": "https://localhost:8080/",
     "height": 52
    },
    "pycharm": {
     "is_executing": false
    }
   },
   "source": [
    "class TwoLayerNet(torch.nn.Module):\n",
    "    def __init__(self, D_in, H, D_out):\n",
    "        super(TwoLayerNet, self).__init__()\n",
    "        self.linear1 = torch.nn.Linear(D_in, H)\n",
    "        self.linear2 = torch.nn.Linear(H, H)\n",
    "        self.out = torch.nn.Linear(H, D_out)\n",
    "\n",
    "    def forward(self, x):\n",
    "        x = F.relu(self.linear1(x))\n",
    "        x = F.relu(self.linear2(x))\n",
    "        x = F.softmax(self.out(x),dim=1)\n",
    "        return x"
   ],
   "execution_count": 2,
   "outputs": [
    {
     "name": "stdout",
     "text": [
      "3.0244290828704834\n",
      "Accuracy of the network on the 10000 test images: 17 %\n"
     ],
     "output_type": "stream"
    }
   ]
  },
  {
   "cell_type": "code",
   "execution_count": null,
   "outputs": [],
   "source": [
    "class MySGD(torch.optim.Optimizer):\n",
    "  \n",
    "    def __init__(self, params, lr=1e-4):\n",
    "        defaults = dict(lr=lr)\n",
    "        super(MySGD, self).__init__(params, defaults)    \n",
    "    \n",
    "    def step(self, closure=None):        \n",
    "        loss = None\n",
    "        if closure is not None:\n",
    "            loss = closure()\n",
    "\n",
    "        for group in self.param_groups:   \n",
    "            \n",
    "            for p in group['params']:\n",
    "                if p.grad is None:\n",
    "                    continue\n",
    "                d_p = p.grad.data\n",
    "                p.data.add_(-group['lr'], d_p)\n",
    "\n",
    "        return loss\n"
   ],
   "metadata": {
    "collapsed": false,
    "pycharm": {
     "name": "#%%\n"
    }
   }
  },
  {
   "cell_type": "code",
   "execution_count": null,
   "outputs": [],
   "source": [
    "dtype = torch.float\n",
    "device = torch.device(\"cpu\")\n",
    "device = torch.device(\"cuda:0\") # Uncomment this to run on GPU\n",
    "\n",
    "# N is batch size; D_in is input dimension;\n",
    "# H is hidden dimension; D_out is output dimension.\n",
    "N, D_in, H, D_out = 64, trainX[0].size, 512, 20\n",
    "\n",
    "# Create random Tensors to hold inputs and outputs\n",
    "x = torch.randn(N, D_in,dtype=dtype,device=device)\n",
    "y = torch.randn(N, D_out,dtype=dtype,device=device)\n",
    "x = torch.from_numpy(trainX).float().to(device)\n",
    "y = torch.from_numpy(trainY)\n",
    "y=y.type(torch.LongTensor).to(device)\n",
    "\n",
    "\n",
    "\n",
    "# Construct our model by instantiating the class defined above\n",
    "model = TwoLayerNet(D_in, H, D_out)\n",
    "model.cuda()\n",
    "\n",
    "# Construct our loss function and an Optimizer. The call to model.parameters()\n",
    "# in the SGD constructor will contain the learnable parameters of the two\n",
    "# nn.Linear modules which are members of the model.\n",
    "criterion = nn.CrossEntropyLoss()\n",
    "optimizer = torch.optim.SGD(model.parameters(), lr=1e-4, nesterov=True, momentum=0.3)\n",
    "optimizer = MySGD(model.parameters())"
   ],
   "metadata": {
    "collapsed": false,
    "pycharm": {
     "name": "#%%\n"
    }
   }
  },
  {
   "cell_type": "code",
   "execution_count": null,
   "outputs": [],
   "source": [
    "for t in range(500):\n",
    "    # Forward pass: Compute predicted y by passing x to the model\n",
    "    y_pred = model(x).squeeze()\n",
    "\n",
    "    # Compute and print loss\n",
    "    loss = criterion(y_pred, y)\n",
    "    if t % 1000 == 99:\n",
    "        print(loss.item())\n",
    "\n",
    "    # Zero gradients, perform a backward pass, and update the weights.\n",
    "    optimizer.zero_grad()\n",
    "    loss.backward()\n",
    "    optimizer.step()\n",
    "\n",
    "test_x = torch.from_numpy(testX).float().to(device)\n",
    "test_y = torch.from_numpy(testY).to(device)\n",
    "\n",
    "\n",
    "correct = 0\n",
    "total = 0\n",
    "with torch.no_grad():\n",
    "    outputs = model(test_x)\n",
    "    _, predicted = torch.max(outputs.data, 1)\n",
    "    total += test_y.shape[0]\n",
    "    correct += (predicted == test_y).sum().item()\n",
    "\n",
    "print('Accuracy of the network on the 10000 test images: %d %%' % (\n",
    "    100 * correct / total))"
   ],
   "metadata": {
    "collapsed": false,
    "pycharm": {
     "name": "#%%\n"
    }
   }
  },
  {
   "cell_type": "code",
   "metadata": {
    "id": "Fndpk8CorkWB",
    "colab_type": "code",
    "colab": {},
    "pycharm": {
     "is_executing": false
    }
   },
   "source": [],
   "execution_count": 2,
   "outputs": []
  }
 ]
}